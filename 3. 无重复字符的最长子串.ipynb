{
 "cells": [
  {
   "cell_type": "markdown",
   "id": "6ca1c98d-c5e8-410e-b9c4-8b3c07205536",
   "metadata": {},
   "source": [
    "# 3. 无重复字符的最长子串"
   ]
  },
  {
   "cell_type": "markdown",
   "id": "e1190ca6-cb57-4262-b8af-5dd277ed2fcd",
   "metadata": {},
   "source": [
    "#给定一个字符串 s ，请你找出其中不含有重复字符的 最长子串 的长度。\n"
   ]
  },
  {
   "cell_type": "raw",
   "id": "13635e8e-b245-407a-a804-de1ab6bf23fe",
   "metadata": {},
   "source": [
    "示例 1:\n",
    "\n",
    "输入: s = \"abcabcbb\"\n",
    "输出: 3 \n",
    "解释: 因为无重复字符的最长子串是 \"abc\"，所以其长度为 3。\n",
    "示例 2:"
   ]
  },
  {
   "cell_type": "raw",
   "id": "3022eb89-e95e-42f1-b89b-252f691091bd",
   "metadata": {},
   "source": [
    "输入: s = \"bbbbb\"\n",
    "输出: 1\n",
    "解释: 因为无重复字符的最长子串是 \"b\"，所以其长度为 1。\n",
    "示例 3:"
   ]
  },
  {
   "cell_type": "raw",
   "id": "ec001a32-52a6-45e0-be91-1fc3ea8e222e",
   "metadata": {},
   "source": [
    "输入: s = \"pwwkew\"\n",
    "输出: 3\n",
    "解释: 因为无重复字符的最长子串是 \"wke\"，所以其长度为 3。\n",
    "     请注意，你的答案必须是 子串 的长度，\"pwke\" 是一个子序列，不是子串。\n",
    " "
   ]
  },
  {
   "cell_type": "raw",
   "id": "0360298c-33c5-4a25-acab-9dc070ed8bc0",
   "metadata": {},
   "source": [
    "    \n",
    "提示：\n",
    "\n",
    "0 <= s.length <= 5 * 104\n",
    "s 由英文字母、数字、符号和空格组成"
   ]
  },
  {
   "cell_type": "code",
   "execution_count": null,
   "id": "9b201bbc-5a12-4578-b846-f4f243aaa860",
   "metadata": {},
   "outputs": [],
   "source": [
    "class Solution:\n",
    "    def lengthOfLongestSubstring(self, s: str) -> int:\n",
    "        n = len(s)\n",
    "        har = set()\n",
    "        leftcur = 0\n",
    "        rightcur = 0\n",
    "        maxl = 0\n",
    "        while leftcur < n:\n",
    "            #判断没有重复，并向哈希表中添加字符\n",
    "            while rightcur < n and s[rightcur] not in har:\n",
    "                har.add(s[rightcur])\n",
    "                rightcur = rightcur + 1\n",
    "            #存在重复，读取最长长度\n",
    "            maxl = max(maxl, rightcur-leftcur)\n",
    "            #从左向右依次删除哈希表中字符，直到第二个while循环不再break为止\n",
    "            har.remove(s[leftcur])\n",
    "            leftcur = leftcur + 1\n",
    "        return maxl"
   ]
  }
 ],
 "metadata": {
  "kernelspec": {
   "display_name": "Python 3 (ipykernel)",
   "language": "python",
   "name": "python3"
  },
  "language_info": {
   "codemirror_mode": {
    "name": "ipython",
    "version": 3
   },
   "file_extension": ".py",
   "mimetype": "text/x-python",
   "name": "python",
   "nbconvert_exporter": "python",
   "pygments_lexer": "ipython3",
   "version": "3.9.7"
  }
 },
 "nbformat": 4,
 "nbformat_minor": 5
}
