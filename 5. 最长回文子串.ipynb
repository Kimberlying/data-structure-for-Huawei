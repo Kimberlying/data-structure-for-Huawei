{
 "cells": [
  {
   "cell_type": "markdown",
   "id": "c3e4d4d0-d854-4209-858c-5cf63bdc7618",
   "metadata": {},
   "source": [
    "5. 最长回文子串"
   ]
  },
  {
   "cell_type": "raw",
   "id": "1551feb3-1576-4603-bbca-ccc198ca25b9",
   "metadata": {},
   "source": [
    "给你一个字符串 s，找到 s 中最长的回文子串。"
   ]
  },
  {
   "cell_type": "markdown",
   "id": "99e47df4-3610-43da-ab58-e93cebd75a84",
   "metadata": {},
   "source": [
    "示例 1：\n",
    "\n",
    "输入：s = \"babad\"\n",
    "输出：\"bab\"\n",
    "解释：\"aba\" 同样是符合题意的答案。\n",
    "示例 2：\n",
    "\n",
    "输入：s = \"cbbd\"\n",
    "输出：\"bb\"\n",
    " \n",
    "\n",
    "提示：\n",
    "\n",
    "1 <= s.length <= 1000\n",
    "s 仅由数字和英文字母组成"
   ]
  },
  {
   "cell_type": "code",
   "execution_count": 1,
   "id": "517629f4-d2fa-4b91-b98b-7043d8b4853d",
   "metadata": {},
   "outputs": [],
   "source": [
    "class Solution(object):\n",
    "    def longestPalindrome(self, s):\n",
    "        res = ''\n",
    "        for i in range(len(s)):\n",
    "            start = max(i - len(res) -1, 0)\n",
    "            temp = s[start: i+1]\n",
    "            if temp == temp[::-1]:\n",
    "                res = temp\n",
    "            else:\n",
    "                temp = temp[1:]\n",
    "                if temp == temp[::-1]:\n",
    "                    res = temp\n",
    "        return res\n"
   ]
  },
  {
   "cell_type": "code",
   "execution_count": null,
   "id": "72c9c3fc-6d7e-49ca-8147-7c3a40cee722",
   "metadata": {},
   "outputs": [],
   "source": []
  }
 ],
 "metadata": {
  "kernelspec": {
   "display_name": "Python 3 (ipykernel)",
   "language": "python",
   "name": "python3"
  },
  "language_info": {
   "codemirror_mode": {
    "name": "ipython",
    "version": 3
   },
   "file_extension": ".py",
   "mimetype": "text/x-python",
   "name": "python",
   "nbconvert_exporter": "python",
   "pygments_lexer": "ipython3",
   "version": "3.9.7"
  }
 },
 "nbformat": 4,
 "nbformat_minor": 5
}
